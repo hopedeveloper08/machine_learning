{
 "cells": [
  {
   "cell_type": "code",
   "execution_count": null,
   "metadata": {
    "executionInfo": {
     "elapsed": 1448,
     "status": "ok",
     "timestamp": 1743962494773,
     "user": {
      "displayName": "hope developer",
      "userId": "07564102403383058269"
     },
     "user_tz": -210
    },
    "id": "5cIgJwD0fN2X"
   },
   "outputs": [],
   "source": [
    "import numpy as np\n",
    "import pandas as pd\n",
    "import matplotlib.pyplot as plt\n",
    "\n",
    "from sklearn.metrics import r2_score"
   ]
  },
  {
   "cell_type": "code",
   "execution_count": 2,
   "metadata": {
    "colab": {
     "base_uri": "https://localhost:8080/",
     "height": 206
    },
    "executionInfo": {
     "elapsed": 6,
     "status": "ok",
     "timestamp": 1743962494773,
     "user": {
      "displayName": "hope developer",
      "userId": "07564102403383058269"
     },
     "user_tz": -210
    },
    "id": "PakjjkFAXoQ2",
    "outputId": "cb7e1ca8-3b1f-4b5d-a505-601b73ae6568"
   },
   "outputs": [
    {
     "data": {
      "application/vnd.google.colaboratory.intrinsic+json": {
       "summary": "{\n  \"name\": \"df\",\n  \"rows\": 3500,\n  \"fields\": [\n    {\n      \"column\": \"Unnamed: 0\",\n      \"properties\": {\n        \"dtype\": \"number\",\n        \"std\": 1010,\n        \"min\": 0,\n        \"max\": 3499,\n        \"num_unique_values\": 3500,\n        \"samples\": [\n          1650,\n          2456,\n          2232\n        ],\n        \"semantic_type\": \"\",\n        \"description\": \"\"\n      }\n    },\n    {\n      \"column\": \"Avg. Area Income\",\n      \"properties\": {\n        \"dtype\": \"number\",\n        \"std\": 1.0097561502141248,\n        \"min\": -4.765584450612592,\n        \"max\": 3.389309213576109,\n        \"num_unique_values\": 3500,\n        \"samples\": [\n          -1.2710091714575973,\n          -0.4118674322181542,\n          -0.1614191716298549\n        ],\n        \"semantic_type\": \"\",\n        \"description\": \"\"\n      }\n    },\n    {\n      \"column\": \"Avg. Area House Age\",\n      \"properties\": {\n        \"dtype\": \"number\",\n        \"std\": 0.998204533449196,\n        \"min\": -3.3228988498291425,\n        \"max\": 3.5727451626269846,\n        \"num_unique_values\": 3500,\n        \"samples\": [\n          -1.5207989834070847,\n          2.1049464724910303,\n          1.520562006649905\n        ],\n        \"semantic_type\": \"\",\n        \"description\": \"\"\n      }\n    },\n    {\n      \"column\": \"Avg. Area Number of Rooms\",\n      \"properties\": {\n        \"dtype\": \"number\",\n        \"std\": 1.005087739016356,\n        \"min\": -3.730213843917031,\n        \"max\": 3.273464963336303,\n        \"num_unique_values\": 3500,\n        \"samples\": [\n          1.8542522023263903,\n          -0.189684537189551,\n          -0.7496710832793503\n        ],\n        \"semantic_type\": \"\",\n        \"description\": \"\"\n      }\n    },\n    {\n      \"column\": \"Avg. Area Number of Bedrooms\",\n      \"properties\": {\n        \"dtype\": \"number\",\n        \"std\": 0.9929998599765978,\n        \"min\": -1.6055978683592365,\n        \"max\": 2.041038687699857,\n        \"num_unique_values\": 255,\n        \"samples\": [\n          1.1010168199157349,\n          0.0394404002629769,\n          0.4041040558688863\n        ],\n        \"semantic_type\": \"\",\n        \"description\": \"\"\n      }\n    },\n    {\n      \"column\": \"Area Population\",\n      \"properties\": {\n        \"dtype\": \"number\",\n        \"std\": 1.0016858489942577,\n        \"min\": -3.3127657558136887,\n        \"max\": 3.3712193438577795,\n        \"num_unique_values\": 3500,\n        \"samples\": [\n          -0.8526737964989685,\n          0.6849600162234519,\n          -2.0996057134310955\n        ],\n        \"semantic_type\": \"\",\n        \"description\": \"\"\n      }\n    },\n    {\n      \"column\": \"Price\",\n      \"properties\": {\n        \"dtype\": \"number\",\n        \"std\": 0.3570811734633537,\n        \"min\": 0.0159386579199999,\n        \"max\": 2.37023132,\n        \"num_unique_values\": 3500,\n        \"samples\": [\n          0.7380306499,\n          1.545864166,\n          1.028493601\n        ],\n        \"semantic_type\": \"\",\n        \"description\": \"\"\n      }\n    }\n  ]\n}",
       "type": "dataframe",
       "variable_name": "df"
      },
      "text/html": [
       "\n",
       "  <div id=\"df-e8c00372-8b91-4c40-a607-d54cc6030137\" class=\"colab-df-container\">\n",
       "    <div>\n",
       "<style scoped>\n",
       "    .dataframe tbody tr th:only-of-type {\n",
       "        vertical-align: middle;\n",
       "    }\n",
       "\n",
       "    .dataframe tbody tr th {\n",
       "        vertical-align: top;\n",
       "    }\n",
       "\n",
       "    .dataframe thead th {\n",
       "        text-align: right;\n",
       "    }\n",
       "</style>\n",
       "<table border=\"1\" class=\"dataframe\">\n",
       "  <thead>\n",
       "    <tr style=\"text-align: right;\">\n",
       "      <th></th>\n",
       "      <th>Unnamed: 0</th>\n",
       "      <th>Avg. Area Income</th>\n",
       "      <th>Avg. Area House Age</th>\n",
       "      <th>Avg. Area Number of Rooms</th>\n",
       "      <th>Avg. Area Number of Bedrooms</th>\n",
       "      <th>Area Population</th>\n",
       "      <th>Price</th>\n",
       "    </tr>\n",
       "  </thead>\n",
       "  <tbody>\n",
       "    <tr>\n",
       "      <th>0</th>\n",
       "      <td>0</td>\n",
       "      <td>-1.251559</td>\n",
       "      <td>-2.029014</td>\n",
       "      <td>1.962066</td>\n",
       "      <td>0.323068</td>\n",
       "      <td>0.745056</td>\n",
       "      <td>0.881446</td>\n",
       "    </tr>\n",
       "    <tr>\n",
       "      <th>1</th>\n",
       "      <td>1</td>\n",
       "      <td>-0.589051</td>\n",
       "      <td>0.518025</td>\n",
       "      <td>0.655811</td>\n",
       "      <td>-0.641265</td>\n",
       "      <td>1.098587</td>\n",
       "      <td>1.375771</td>\n",
       "    </tr>\n",
       "    <tr>\n",
       "      <th>2</th>\n",
       "      <td>2</td>\n",
       "      <td>0.822222</td>\n",
       "      <td>-0.574674</td>\n",
       "      <td>1.248231</td>\n",
       "      <td>-0.706094</td>\n",
       "      <td>-0.952839</td>\n",
       "      <td>1.137069</td>\n",
       "    </tr>\n",
       "    <tr>\n",
       "      <th>3</th>\n",
       "      <td>3</td>\n",
       "      <td>-0.256822</td>\n",
       "      <td>0.411710</td>\n",
       "      <td>-0.182614</td>\n",
       "      <td>-0.649369</td>\n",
       "      <td>-0.800950</td>\n",
       "      <td>0.928950</td>\n",
       "    </tr>\n",
       "    <tr>\n",
       "      <th>4</th>\n",
       "      <td>4</td>\n",
       "      <td>0.072036</td>\n",
       "      <td>0.941329</td>\n",
       "      <td>1.292845</td>\n",
       "      <td>0.250135</td>\n",
       "      <td>0.062022</td>\n",
       "      <td>1.392084</td>\n",
       "    </tr>\n",
       "  </tbody>\n",
       "</table>\n",
       "</div>\n",
       "    <div class=\"colab-df-buttons\">\n",
       "\n",
       "  <div class=\"colab-df-container\">\n",
       "    <button class=\"colab-df-convert\" onclick=\"convertToInteractive('df-e8c00372-8b91-4c40-a607-d54cc6030137')\"\n",
       "            title=\"Convert this dataframe to an interactive table.\"\n",
       "            style=\"display:none;\">\n",
       "\n",
       "  <svg xmlns=\"http://www.w3.org/2000/svg\" height=\"24px\" viewBox=\"0 -960 960 960\">\n",
       "    <path d=\"M120-120v-720h720v720H120Zm60-500h600v-160H180v160Zm220 220h160v-160H400v160Zm0 220h160v-160H400v160ZM180-400h160v-160H180v160Zm440 0h160v-160H620v160ZM180-180h160v-160H180v160Zm440 0h160v-160H620v160Z\"/>\n",
       "  </svg>\n",
       "    </button>\n",
       "\n",
       "  <style>\n",
       "    .colab-df-container {\n",
       "      display:flex;\n",
       "      gap: 12px;\n",
       "    }\n",
       "\n",
       "    .colab-df-convert {\n",
       "      background-color: #E8F0FE;\n",
       "      border: none;\n",
       "      border-radius: 50%;\n",
       "      cursor: pointer;\n",
       "      display: none;\n",
       "      fill: #1967D2;\n",
       "      height: 32px;\n",
       "      padding: 0 0 0 0;\n",
       "      width: 32px;\n",
       "    }\n",
       "\n",
       "    .colab-df-convert:hover {\n",
       "      background-color: #E2EBFA;\n",
       "      box-shadow: 0px 1px 2px rgba(60, 64, 67, 0.3), 0px 1px 3px 1px rgba(60, 64, 67, 0.15);\n",
       "      fill: #174EA6;\n",
       "    }\n",
       "\n",
       "    .colab-df-buttons div {\n",
       "      margin-bottom: 4px;\n",
       "    }\n",
       "\n",
       "    [theme=dark] .colab-df-convert {\n",
       "      background-color: #3B4455;\n",
       "      fill: #D2E3FC;\n",
       "    }\n",
       "\n",
       "    [theme=dark] .colab-df-convert:hover {\n",
       "      background-color: #434B5C;\n",
       "      box-shadow: 0px 1px 3px 1px rgba(0, 0, 0, 0.15);\n",
       "      filter: drop-shadow(0px 1px 2px rgba(0, 0, 0, 0.3));\n",
       "      fill: #FFFFFF;\n",
       "    }\n",
       "  </style>\n",
       "\n",
       "    <script>\n",
       "      const buttonEl =\n",
       "        document.querySelector('#df-e8c00372-8b91-4c40-a607-d54cc6030137 button.colab-df-convert');\n",
       "      buttonEl.style.display =\n",
       "        google.colab.kernel.accessAllowed ? 'block' : 'none';\n",
       "\n",
       "      async function convertToInteractive(key) {\n",
       "        const element = document.querySelector('#df-e8c00372-8b91-4c40-a607-d54cc6030137');\n",
       "        const dataTable =\n",
       "          await google.colab.kernel.invokeFunction('convertToInteractive',\n",
       "                                                    [key], {});\n",
       "        if (!dataTable) return;\n",
       "\n",
       "        const docLinkHtml = 'Like what you see? Visit the ' +\n",
       "          '<a target=\"_blank\" href=https://colab.research.google.com/notebooks/data_table.ipynb>data table notebook</a>'\n",
       "          + ' to learn more about interactive tables.';\n",
       "        element.innerHTML = '';\n",
       "        dataTable['output_type'] = 'display_data';\n",
       "        await google.colab.output.renderOutput(dataTable, element);\n",
       "        const docLink = document.createElement('div');\n",
       "        docLink.innerHTML = docLinkHtml;\n",
       "        element.appendChild(docLink);\n",
       "      }\n",
       "    </script>\n",
       "  </div>\n",
       "\n",
       "\n",
       "<div id=\"df-8e720dad-8e71-4305-97b2-9961b63ad304\">\n",
       "  <button class=\"colab-df-quickchart\" onclick=\"quickchart('df-8e720dad-8e71-4305-97b2-9961b63ad304')\"\n",
       "            title=\"Suggest charts\"\n",
       "            style=\"display:none;\">\n",
       "\n",
       "<svg xmlns=\"http://www.w3.org/2000/svg\" height=\"24px\"viewBox=\"0 0 24 24\"\n",
       "     width=\"24px\">\n",
       "    <g>\n",
       "        <path d=\"M19 3H5c-1.1 0-2 .9-2 2v14c0 1.1.9 2 2 2h14c1.1 0 2-.9 2-2V5c0-1.1-.9-2-2-2zM9 17H7v-7h2v7zm4 0h-2V7h2v10zm4 0h-2v-4h2v4z\"/>\n",
       "    </g>\n",
       "</svg>\n",
       "  </button>\n",
       "\n",
       "<style>\n",
       "  .colab-df-quickchart {\n",
       "      --bg-color: #E8F0FE;\n",
       "      --fill-color: #1967D2;\n",
       "      --hover-bg-color: #E2EBFA;\n",
       "      --hover-fill-color: #174EA6;\n",
       "      --disabled-fill-color: #AAA;\n",
       "      --disabled-bg-color: #DDD;\n",
       "  }\n",
       "\n",
       "  [theme=dark] .colab-df-quickchart {\n",
       "      --bg-color: #3B4455;\n",
       "      --fill-color: #D2E3FC;\n",
       "      --hover-bg-color: #434B5C;\n",
       "      --hover-fill-color: #FFFFFF;\n",
       "      --disabled-bg-color: #3B4455;\n",
       "      --disabled-fill-color: #666;\n",
       "  }\n",
       "\n",
       "  .colab-df-quickchart {\n",
       "    background-color: var(--bg-color);\n",
       "    border: none;\n",
       "    border-radius: 50%;\n",
       "    cursor: pointer;\n",
       "    display: none;\n",
       "    fill: var(--fill-color);\n",
       "    height: 32px;\n",
       "    padding: 0;\n",
       "    width: 32px;\n",
       "  }\n",
       "\n",
       "  .colab-df-quickchart:hover {\n",
       "    background-color: var(--hover-bg-color);\n",
       "    box-shadow: 0 1px 2px rgba(60, 64, 67, 0.3), 0 1px 3px 1px rgba(60, 64, 67, 0.15);\n",
       "    fill: var(--button-hover-fill-color);\n",
       "  }\n",
       "\n",
       "  .colab-df-quickchart-complete:disabled,\n",
       "  .colab-df-quickchart-complete:disabled:hover {\n",
       "    background-color: var(--disabled-bg-color);\n",
       "    fill: var(--disabled-fill-color);\n",
       "    box-shadow: none;\n",
       "  }\n",
       "\n",
       "  .colab-df-spinner {\n",
       "    border: 2px solid var(--fill-color);\n",
       "    border-color: transparent;\n",
       "    border-bottom-color: var(--fill-color);\n",
       "    animation:\n",
       "      spin 1s steps(1) infinite;\n",
       "  }\n",
       "\n",
       "  @keyframes spin {\n",
       "    0% {\n",
       "      border-color: transparent;\n",
       "      border-bottom-color: var(--fill-color);\n",
       "      border-left-color: var(--fill-color);\n",
       "    }\n",
       "    20% {\n",
       "      border-color: transparent;\n",
       "      border-left-color: var(--fill-color);\n",
       "      border-top-color: var(--fill-color);\n",
       "    }\n",
       "    30% {\n",
       "      border-color: transparent;\n",
       "      border-left-color: var(--fill-color);\n",
       "      border-top-color: var(--fill-color);\n",
       "      border-right-color: var(--fill-color);\n",
       "    }\n",
       "    40% {\n",
       "      border-color: transparent;\n",
       "      border-right-color: var(--fill-color);\n",
       "      border-top-color: var(--fill-color);\n",
       "    }\n",
       "    60% {\n",
       "      border-color: transparent;\n",
       "      border-right-color: var(--fill-color);\n",
       "    }\n",
       "    80% {\n",
       "      border-color: transparent;\n",
       "      border-right-color: var(--fill-color);\n",
       "      border-bottom-color: var(--fill-color);\n",
       "    }\n",
       "    90% {\n",
       "      border-color: transparent;\n",
       "      border-bottom-color: var(--fill-color);\n",
       "    }\n",
       "  }\n",
       "</style>\n",
       "\n",
       "  <script>\n",
       "    async function quickchart(key) {\n",
       "      const quickchartButtonEl =\n",
       "        document.querySelector('#' + key + ' button');\n",
       "      quickchartButtonEl.disabled = true;  // To prevent multiple clicks.\n",
       "      quickchartButtonEl.classList.add('colab-df-spinner');\n",
       "      try {\n",
       "        const charts = await google.colab.kernel.invokeFunction(\n",
       "            'suggestCharts', [key], {});\n",
       "      } catch (error) {\n",
       "        console.error('Error during call to suggestCharts:', error);\n",
       "      }\n",
       "      quickchartButtonEl.classList.remove('colab-df-spinner');\n",
       "      quickchartButtonEl.classList.add('colab-df-quickchart-complete');\n",
       "    }\n",
       "    (() => {\n",
       "      let quickchartButtonEl =\n",
       "        document.querySelector('#df-8e720dad-8e71-4305-97b2-9961b63ad304 button');\n",
       "      quickchartButtonEl.style.display =\n",
       "        google.colab.kernel.accessAllowed ? 'block' : 'none';\n",
       "    })();\n",
       "  </script>\n",
       "</div>\n",
       "\n",
       "    </div>\n",
       "  </div>\n"
      ],
      "text/plain": [
       "   Unnamed: 0  Avg. Area Income  Avg. Area House Age  \\\n",
       "0           0         -1.251559            -2.029014   \n",
       "1           1         -0.589051             0.518025   \n",
       "2           2          0.822222            -0.574674   \n",
       "3           3         -0.256822             0.411710   \n",
       "4           4          0.072036             0.941329   \n",
       "\n",
       "   Avg. Area Number of Rooms  Avg. Area Number of Bedrooms  Area Population  \\\n",
       "0                   1.962066                      0.323068         0.745056   \n",
       "1                   0.655811                     -0.641265         1.098587   \n",
       "2                   1.248231                     -0.706094        -0.952839   \n",
       "3                  -0.182614                     -0.649369        -0.800950   \n",
       "4                   1.292845                      0.250135         0.062022   \n",
       "\n",
       "      Price  \n",
       "0  0.881446  \n",
       "1  1.375771  \n",
       "2  1.137069  \n",
       "3  0.928950  \n",
       "4  1.392084  "
      ]
     },
     "execution_count": 2,
     "metadata": {},
     "output_type": "execute_result"
    }
   ],
   "source": [
    "df = pd.read_csv('/content/usa-housing-train-preprocessed.csv')\n",
    "df.head()"
   ]
  },
  {
   "cell_type": "code",
   "execution_count": 3,
   "metadata": {
    "colab": {
     "base_uri": "https://localhost:8080/"
    },
    "executionInfo": {
     "elapsed": 6,
     "status": "ok",
     "timestamp": 1743962494774,
     "user": {
      "displayName": "hope developer",
      "userId": "07564102403383058269"
     },
     "user_tz": -210
    },
    "id": "h7C6Qbo8X4SC",
    "outputId": "790cda6e-9c29-4840-f6f8-cba4485d6f3f"
   },
   "outputs": [
    {
     "data": {
      "text/plain": [
       "(3500, 6)"
      ]
     },
     "execution_count": 3,
     "metadata": {},
     "output_type": "execute_result"
    }
   ],
   "source": [
    "train_set = np.array(df)[:, 1:]\n",
    "train_set.shape"
   ]
  },
  {
   "cell_type": "code",
   "execution_count": 4,
   "metadata": {
    "colab": {
     "base_uri": "https://localhost:8080/"
    },
    "executionInfo": {
     "elapsed": 5,
     "status": "ok",
     "timestamp": 1743962494774,
     "user": {
      "displayName": "hope developer",
      "userId": "07564102403383058269"
     },
     "user_tz": -210
    },
    "id": "Ydr4MiWrYEAE",
    "outputId": "ef55cff6-0cc5-45cf-f1b2-cead3ee35a40"
   },
   "outputs": [
    {
     "data": {
      "text/plain": [
       "((3500, 5), (3500,))"
      ]
     },
     "execution_count": 4,
     "metadata": {},
     "output_type": "execute_result"
    }
   ],
   "source": [
    "X_train = train_set[:, :-1]\n",
    "y_train = train_set[:, -1]\n",
    "X_train.shape, y_train.shape"
   ]
  },
  {
   "cell_type": "code",
   "execution_count": 5,
   "metadata": {
    "colab": {
     "base_uri": "https://localhost:8080/",
     "height": 676
    },
    "executionInfo": {
     "elapsed": 1182,
     "status": "ok",
     "timestamp": 1743962495952,
     "user": {
      "displayName": "hope developer",
      "userId": "07564102403383058269"
     },
     "user_tz": -210
    },
    "id": "x9Fxgm__YhMv",
    "outputId": "13679c0a-5c52-45a0-8e33-dcec6fd29492"
   },
   "outputs": [
    {
     "data": {
      "image/png": "[encoded data removed]",
      "text/plain": [
       "<Figure size 1200x800 with 6 Axes>"
      ]
     },
     "metadata": {},
     "output_type": "display_data"
    }
   ],
   "source": [
    "fig, ax = plt.subplots(2, 3, figsize=(12, 8))\n",
    "\n",
    "ax[0, 0].scatter(X_train[:, 0], y_train)\n",
    "ax[0, 1].scatter(X_train[:, 1], y_train)\n",
    "ax[0, 2].scatter(X_train[:, 2], y_train)\n",
    "ax[1, 0].scatter(X_train[:, 3], y_train)\n",
    "ax[1, 1].scatter(X_train[:, 4], y_train)\n",
    "\n",
    "plt.show()"
   ]
  },
  {
   "cell_type": "code",
   "execution_count": 6,
   "metadata": {
    "colab": {
     "base_uri": "https://localhost:8080/"
    },
    "executionInfo": {
     "elapsed": 13,
     "status": "ok",
     "timestamp": 1743962495952,
     "user": {
      "displayName": "hope developer",
      "userId": "07564102403383058269"
     },
     "user_tz": -210
    },
    "id": "tPtrmu-bsMGu",
    "outputId": "8a51961a-67fb-4448-b3c2-2a8ca86c8ddd"
   },
   "outputs": [
    {
     "data": {
      "text/plain": [
       "array([ 1.        , -1.25155908, -2.02901391,  1.96206583,  0.32306769,\n",
       "        0.74505618])"
      ]
     },
     "execution_count": 6,
     "metadata": {},
     "output_type": "execute_result"
    }
   ],
   "source": [
    "x = X_train[0]\n",
    "x = np.hstack((np.ones(1), x))\n",
    "x"
   ]
  },
  {
   "cell_type": "code",
   "execution_count": 7,
   "metadata": {
    "colab": {
     "base_uri": "https://localhost:8080/"
    },
    "executionInfo": {
     "elapsed": 13,
     "status": "ok",
     "timestamp": 1743962495953,
     "user": {
      "displayName": "hope developer",
      "userId": "07564102403383058269"
     },
     "user_tz": -210
    },
    "id": "KYVQ1JMDs5gk",
    "outputId": "95b6a7e7-5af6-4b9f-abb1-25059d1d51bc"
   },
   "outputs": [
    {
     "data": {
      "text/plain": [
       "array([ 0.20061836,  0.33997787, -0.18049814,  0.36114534, -0.88361385,\n",
       "        0.40688634])"
      ]
     },
     "execution_count": 7,
     "metadata": {},
     "output_type": "execute_result"
    }
   ],
   "source": [
    "number_of_features = X_train.shape[1]\n",
    "w = np.random.randn(number_of_features + 1)\n",
    "w"
   ]
  },
  {
   "cell_type": "code",
   "execution_count": 8,
   "metadata": {
    "colab": {
     "base_uri": "https://localhost:8080/"
    },
    "executionInfo": {
     "elapsed": 12,
     "status": "ok",
     "timestamp": 1743962495953,
     "user": {
      "displayName": "hope developer",
      "userId": "07564102403383058269"
     },
     "user_tz": -210
    },
    "id": "VHEvp5_4NB2V",
    "outputId": "311166b4-ce3b-46e5-da9e-3fdca057f5fc"
   },
   "outputs": [
    {
     "data": {
      "text/plain": [
       "array([-1.83672237, -1.26274692,  0.33121251,  0.59462434,  0.13665856])"
      ]
     },
     "execution_count": 8,
     "metadata": {},
     "output_type": "execute_result"
    }
   ],
   "source": [
    "def multiple_linear_regression(X, w):\n",
    "    y_hat = np.zeros(X.shape[0])\n",
    "    for x_i, w_i in zip(X.T, w):\n",
    "        y_hat += x_i * w_i\n",
    "    return y_hat\n",
    "\n",
    "multiple_linear_regression(X_train, w)[:5]"
   ]
  },
  {
   "cell_type": "code",
   "execution_count": 9,
   "metadata": {
    "colab": {
     "base_uri": "https://localhost:8080/"
    },
    "executionInfo": {
     "elapsed": 11,
     "status": "ok",
     "timestamp": 1743962495953,
     "user": {
      "displayName": "hope developer",
      "userId": "07564102403383058269"
     },
     "user_tz": -210
    },
    "id": "Q6-YH3CUNjRp",
    "outputId": "18ad4ca8-f502-46b6-a707-d391f7dca9f9"
   },
   "outputs": [
    {
     "data": {
      "text/plain": [
       "np.float64(2.7214805247706724)"
      ]
     },
     "execution_count": 9,
     "metadata": {},
     "output_type": "execute_result"
    }
   ],
   "source": [
    "def loss_function(y_hat, y):\n",
    "    return np.mean(np.power(y_hat - y, 2))\n",
    "\n",
    "loss_function(multiple_linear_regression(X_train, w), y_train)"
   ]
  },
  {
   "cell_type": "code",
   "execution_count": 55,
   "metadata": {
    "colab": {
     "base_uri": "https://localhost:8080/"
    },
    "executionInfo": {
     "elapsed": 4,
     "status": "ok",
     "timestamp": 1743962876667,
     "user": {
      "displayName": "hope developer",
      "userId": "07564102403383058269"
     },
     "user_tz": -210
    },
    "id": "Y42Vg99jPNpt",
    "outputId": "3bdc6d24-c496-43fb-c049-b344848906e0"
   },
   "outputs": [
    {
     "data": {
      "text/plain": [
       "((3500, 6), (6,))"
      ]
     },
     "execution_count": 55,
     "metadata": {},
     "output_type": "execute_result"
    }
   ],
   "source": [
    "X = np.hstack((np.ones((X_train.shape[0], 1)), X_train))\n",
    "number_of_features = X.shape[1]\n",
    "w = np.random.randn(number_of_features)\n",
    "\n",
    "X.shape, w.shape"
   ]
  },
  {
   "cell_type": "code",
   "execution_count": 32,
   "metadata": {
    "colab": {
     "base_uri": "https://localhost:8080/"
    },
    "executionInfo": {
     "elapsed": 328,
     "status": "ok",
     "timestamp": 1743962718364,
     "user": {
      "displayName": "hope developer",
      "userId": "07564102403383058269"
     },
     "user_tz": -210
    },
    "id": "PZBmYdQJQdcr",
    "outputId": "fbdae8c3-1233-4da2-c585-ee2bc40a186e"
   },
   "outputs": [
    {
     "data": {
      "text/plain": [
       "((3500, 6), (3500,))"
      ]
     },
     "execution_count": 32,
     "metadata": {},
     "output_type": "execute_result"
    }
   ],
   "source": [
    "df_test = pd.read_csv('/content/usa-housing-test-preprocessed.csv')\n",
    "test_set = np.array(df)[:, 1:]\n",
    "X_test = test_set[:, :-1]\n",
    "X_test = np.hstack((np.ones((X_test.shape[0], 1)), X_test))\n",
    "y_test = test_set[:, -1]\n",
    "X_test.shape, y_test.shape"
   ]
  },
  {
   "cell_type": "code",
   "execution_count": 56,
   "metadata": {
    "colab": {
     "base_uri": "https://localhost:8080/"
    },
    "executionInfo": {
     "elapsed": 7,
     "status": "ok",
     "timestamp": 1743962877085,
     "user": {
      "displayName": "hope developer",
      "userId": "07564102403383058269"
     },
     "user_tz": -210
    },
    "id": "J4YguRyUN1le",
    "outputId": "452aac0f-6bde-48a6-a8c1-1beba9f0ce10"
   },
   "outputs": [
    {
     "name": "stdout",
     "output_type": "stream",
     "text": [
      "epoch=0\tloss=6.9883\tr2_score=-1767.5\n",
      "epoch=1\tloss=2.3805\tr2_score=-561.24\n",
      "epoch=2\tloss=0.8429\tr2_score=-141.66\n",
      "epoch=3\tloss=0.3080\tr2_score=7.56\n",
      "epoch=4\tloss=0.1178\tr2_score=61.25\n",
      "epoch=5\tloss=0.0494\tr2_score=80.71\n",
      "epoch=6\tloss=0.0246\tr2_score=87.79\n",
      "epoch=7\tloss=0.0156\tr2_score=90.39\n",
      "epoch=8\tloss=0.0123\tr2_score=91.35\n",
      "epoch=9\tloss=0.0110\tr2_score=91.7\n",
      "epoch=10\tloss=0.0106\tr2_score=91.84\n",
      "epoch=11\tloss=0.0104\tr2_score=91.89\n",
      "epoch=12\tloss=0.0103\tr2_score=91.91\n",
      "epoch=13\tloss=0.0103\tr2_score=91.92\n",
      "epoch=14\tloss=0.0103\tr2_score=91.93\n",
      "epoch=15\tloss=0.0103\tr2_score=91.93\n",
      "epoch=16\tloss=0.0103\tr2_score=91.93\n",
      "epoch=17\tloss=0.0103\tr2_score=91.93\n",
      "epoch=18\tloss=0.0103\tr2_score=91.93\n",
      "epoch=19\tloss=0.0103\tr2_score=91.93\n",
      "epoch=20\tloss=0.0103\tr2_score=91.93\n"
     ]
    }
   ],
   "source": [
    "epochs = 20\n",
    "lr = 0.2\n",
    "history = []\n",
    "\n",
    "for epoch in range(epochs + 1):\n",
    "    y_hat = multiple_linear_regression(X, w)\n",
    "\n",
    "    loss = loss_function(y_hat, y_train)\n",
    "    history.append(loss)\n",
    "\n",
    "    gradients = []\n",
    "\n",
    "    for x_i in X.T:\n",
    "        gradients.append(2 * np.mean(x_i * (y_hat - y_train)))\n",
    "    gradients = np.array(gradients)\n",
    "\n",
    "    w -= lr * gradients\n",
    "\n",
    "    predict = multiple_linear_regression(X_test, w)\n",
    "    score = r2_score(y_test, predict)\n",
    "    print(f'epoch={epoch}\\tloss={loss:.4f}\\tr2_score={round(score * 100, 2)}')"
   ]
  },
  {
   "cell_type": "code",
   "execution_count": 53,
   "metadata": {
    "colab": {
     "base_uri": "https://localhost:8080/",
     "height": 430
    },
    "executionInfo": {
     "elapsed": 338,
     "status": "ok",
     "timestamp": 1743962864718,
     "user": {
      "displayName": "hope developer",
      "userId": "07564102403383058269"
     },
     "user_tz": -210
    },
    "id": "T0NCJfT5QDVz",
    "outputId": "ca806297-9811-4d70-d388-3a009f2102e1"
   },
   "outputs": [
    {
     "data": {
      "image/png": "[encoded data removed]",
      "text/plain": [
       "<Figure size 640x480 with 1 Axes>"
      ]
     },
     "metadata": {},
     "output_type": "display_data"
    }
   ],
   "source": [
    "plt.plot(history)\n",
    "plt.show()"
   ]
  }
 ],
 "metadata": {
  "colab": {
   "authorship_tag": "ABX9TyPNQ8jDiekNiRruQH8BKAaq",
   "provenance": []
  },
  "kernelspec": {
   "display_name": "Python 3",
   "name": "python3"
  },
  "language_info": {
   "name": "python"
  }
 },
 "nbformat": 4,
 "nbformat_minor": 0
}
